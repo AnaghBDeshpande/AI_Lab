{
  "nbformat": 4,
  "nbformat_minor": 0,
  "metadata": {
    "colab": {
      "provenance": [],
      "authorship_tag": "ABX9TyP+lhshvB80xJw8mzYYj1UE",
      "include_colab_link": true
    },
    "kernelspec": {
      "name": "python3",
      "display_name": "Python 3"
    },
    "language_info": {
      "name": "python"
    }
  },
  "cells": [
    {
      "cell_type": "markdown",
      "metadata": {
        "id": "view-in-github",
        "colab_type": "text"
      },
      "source": [
        "<a href=\"https://colab.research.google.com/github/AnaghBDeshpande/AI_Lab/blob/main/1BM22CS037_Knowledge_Base.ipynb\" target=\"_parent\"><img src=\"https://colab.research.google.com/assets/colab-badge.svg\" alt=\"Open In Colab\"/></a>"
      ]
    },
    {
      "cell_type": "code",
      "source": [
        "def implies(p, q):\n",
        "    return not p or q\n",
        "\n",
        "def print_truth_table(KB, alpha, sym): # Change here: alpha is the query\n",
        "    print(\"Truth Table:\")\n",
        "    header = \" | \".join(sym) + \" | KB | alpha \"\n",
        "    print(header)\n",
        "    print(\"-\" * len(header))\n",
        "\n",
        "    for values in product([True, False], repeat=len(sym)):\n",
        "        model = dict(zip(sym, values))\n",
        "        kb_true = all(statement(model) for statement in KB)\n",
        "        query_true = alpha(model) # Change here: Use alpha instead of query\n",
        "\n",
        "        row = \" | \".join(str(val) for val in values) + f\" | {kb_true} | {query_true}\"\n",
        "        print(row)\n",
        "\n",
        "def check_entailment(KB, query, sym):\n",
        "\n",
        "    for values in product([True, False], repeat=len(sym)):\n",
        "        model = dict(zip(sym, values))\n",
        "        kb_true = all(statement(model) for statement in KB)\n",
        "        query_true = query(model)\n",
        "        if kb_true and not query_true:\n",
        "            return False\n",
        "    return True\n",
        "sym=['P', 'Q', 'R']\n",
        "KB = [\n",
        "    lambda model: implies(model['Q'], model['P']),\n",
        "    lambda model: implies(model['P'], not model['Q']),\n",
        "    lambda model: model['Q'] or model['R']\n",
        "]\n",
        "alpha = lambda model: model['R']\n",
        "\n",
        "\n",
        "entails = check_entailment(KB, alpha,sym)\n",
        "print(f\"KB entails alpha: {entails}\")\n",
        "print_truth_table(KB, alpha,sym) # alpha is passed here"
      ],
      "metadata": {
        "colab": {
          "base_uri": "https://localhost:8080/"
        },
        "id": "fW6oZUzJrtoY",
        "outputId": "9d2522ac-4d8e-4a32-d13d-332041994308"
      },
      "execution_count": 17,
      "outputs": [
        {
          "output_type": "stream",
          "name": "stdout",
          "text": [
            "KB entails alpha: True\n",
            "Truth Table:\n",
            "P | Q | R | KB | alpha \n",
            "-----------------------\n",
            "True | True | True | False | True\n",
            "True | True | False | False | False\n",
            "True | False | True | True | True\n",
            "True | False | False | False | False\n",
            "False | True | True | False | True\n",
            "False | True | False | False | False\n",
            "False | False | True | True | True\n",
            "False | False | False | False | False\n"
          ]
        }
      ]
    },
    {
      "cell_type": "code",
      "source": [
        "def implies(p, q):\n",
        "    return not p or q\n",
        "\n",
        "def print_truth_table(KB, alpha, sym): # Changed 'alpha' to represent the query\n",
        "    print(\"Truth Table:\")\n",
        "    header = \" | \".join(sym) + \" | KB | alpha \"\n",
        "    print(header)\n",
        "    print(\"-\" * len(header))\n",
        "\n",
        "    for values in product([True, False], repeat=len(sym)):\n",
        "        model = dict(zip(sym, values))\n",
        "        kb_true = all(statement(model) for statement in KB)\n",
        "        query_true = alpha(model) # Use 'alpha' instead of 'query'\n",
        "\n",
        "        row = \" | \".join(str(val) for val in values) + f\" | {kb_true} | {query_true}\"\n",
        "        print(row)\n",
        "\n",
        "def check_entailment(KB, query, sym):\n",
        "    for values in product([True, False], repeat=len(sym)):\n",
        "        model = dict(zip(sym, values))\n",
        "        kb_true = all(statement(model) for statement in KB)\n",
        "        query_true = query(model)\n",
        "        if kb_true and not query_true:\n",
        "            return False\n",
        "    return True\n",
        "sym=['P', 'Q', 'R']\n",
        "\n",
        "KB = [\n",
        "    lambda model: implies(model['Q'], model['P']),\n",
        "    lambda model: implies(model['P'], not model['Q']),\n",
        "    lambda model: model['Q'] or model['R']\n",
        "]\n",
        "alpha = lambda model: implies(model['R'] , model['P'])\n",
        "\n",
        "\n",
        "entails = check_entailment(KB, alpha,sym)\n",
        "print(f\"KB entails alpha: {entails}\")\n",
        "print_truth_table(KB, alpha,sym) # Passing 'alpha' as the query"
      ],
      "metadata": {
        "colab": {
          "base_uri": "https://localhost:8080/"
        },
        "id": "kcGo5aG4r3qf",
        "outputId": "c676abeb-c009-40f4-b656-86e70eccab62"
      },
      "execution_count": 13,
      "outputs": [
        {
          "output_type": "stream",
          "name": "stdout",
          "text": [
            "KB entails alpha: False\n",
            "Truth Table:\n",
            "P | Q | R | KB | alpha \n",
            "-----------------------\n",
            "True | True | True | False | True\n",
            "True | True | False | False | True\n",
            "True | False | True | True | True\n",
            "True | False | False | False | True\n",
            "False | True | True | False | False\n",
            "False | True | False | False | True\n",
            "False | False | True | True | False\n",
            "False | False | False | False | True\n"
          ]
        }
      ]
    },
    {
      "cell_type": "code",
      "source": [
        "def implies(p, q):\n",
        "    return not p or q\n",
        "\n",
        "def print_truth_table(KB, alpha, sym): # Changed 'alpha' to represent the query\n",
        "    print(\"Truth Table:\")\n",
        "    header = \" | \".join(sym) + \" | KB | alpha \"\n",
        "    print(header)\n",
        "    print(\"-\" * len(header))\n",
        "\n",
        "    for values in product([True, False], repeat=len(sym)):\n",
        "        model = dict(zip(sym, values))\n",
        "        kb_true = all(statement(model) for statement in KB)\n",
        "        query_true = alpha(model) # Use 'alpha' instead of 'query'\n",
        "\n",
        "        row = \" | \".join(str(val) for val in values) + f\" | {kb_true} | {query_true}\"\n",
        "        print(row)\n",
        "\n",
        "def check_entailment(KB, query, sym):\n",
        "    for values in product([True, False], repeat=len(sym)):\n",
        "        model = dict(zip(sym, values))\n",
        "        kb_true = all(statement(model) for statement in KB)\n",
        "        query_true = query(model)\n",
        "        if kb_true and not query_true:\n",
        "            return False\n",
        "    return True\n",
        "sym=['P', 'Q', 'R']\n",
        "\n",
        "KB = [\n",
        "    lambda model: implies(model['Q'], model['P']),\n",
        "    lambda model: implies(model['P'], not model['Q']),\n",
        "    lambda model: model['Q'] or model['R']\n",
        "]\n",
        "alpha = lambda model: implies(model['Q'] , model['R'])\n",
        "\n",
        "\n",
        "entails = check_entailment(KB, alpha,sym)\n",
        "print(f\"KB entails alpha: {entails}\")\n",
        "print_truth_table(KB, alpha,sym) # Passing 'alpha' as the query"
      ],
      "metadata": {
        "colab": {
          "base_uri": "https://localhost:8080/"
        },
        "id": "fNfu6zdYr-3c",
        "outputId": "580494e1-82eb-447c-be4e-6780d5e15b33"
      },
      "execution_count": 18,
      "outputs": [
        {
          "output_type": "stream",
          "name": "stdout",
          "text": [
            "KB entails alpha: True\n",
            "Truth Table:\n",
            "P | Q | R | KB | alpha \n",
            "-----------------------\n",
            "True | True | True | False | True\n",
            "True | True | False | False | False\n",
            "True | False | True | True | True\n",
            "True | False | False | False | True\n",
            "False | True | True | False | True\n",
            "False | True | False | False | False\n",
            "False | False | True | True | True\n",
            "False | False | False | False | True\n"
          ]
        }
      ]
    },
    {
      "cell_type": "code",
      "source": [],
      "metadata": {
        "id": "hAEkm6I3so-4"
      },
      "execution_count": null,
      "outputs": []
    }
  ]
}