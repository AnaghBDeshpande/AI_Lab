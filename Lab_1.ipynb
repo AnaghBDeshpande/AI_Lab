{
  "nbformat": 4,
  "nbformat_minor": 0,
  "metadata": {
    "colab": {
      "provenance": [],
      "authorship_tag": "ABX9TyOh6TSvQVazZ4PIppnUeLMW",
      "include_colab_link": true
    },
    "kernelspec": {
      "name": "python3",
      "display_name": "Python 3"
    },
    "language_info": {
      "name": "python"
    }
  },
  "cells": [
    {
      "cell_type": "markdown",
      "metadata": {
        "id": "view-in-github",
        "colab_type": "text"
      },
      "source": [
        "<a href=\"https://colab.research.google.com/github/AnaghBDeshpande/AI_Lab/blob/main/Lab_1.ipynb\" target=\"_parent\"><img src=\"https://colab.research.google.com/assets/colab-badge.svg\" alt=\"Open In Colab\"/></a>"
      ]
    },
    {
      "cell_type": "code",
      "execution_count": 1,
      "metadata": {
        "id": "g-p09LNM_SrT"
      },
      "outputs": [],
      "source": []
    },
    {
      "cell_type": "code",
      "source": [
        "# TIC TAC TOE\n",
        "\n",
        "import random\n",
        "\n",
        "board = [[\"0\",\"0\",\"0\"],\n",
        "         [\"0\",\"0\",\"0\"],\n",
        "         [\"0\",\"0\",\"0\"]]\n",
        "\n",
        "def horizontal(board):\n",
        "  i=0\n",
        "  j=0\n",
        "  while(i<3):\n",
        "    if board[i][j] == board[i][j+1] == board[i][j+2] != '0':\n",
        "      print(board[i][j],'wins')\n",
        "      return 1\n",
        "    else:\n",
        "      i=i+1\n",
        "      j=0\n",
        "\n",
        "def vertical(board):\n",
        "  i=0\n",
        "  j=0\n",
        "  while(j<3):\n",
        "    if board[i][j] == board[i+1][j] == board[i+2][j] != '0':\n",
        "      print(board[i][j],'wins')\n",
        "      return 1\n",
        "    else:\n",
        "      i=0\n",
        "      j=j+1\n",
        "\n",
        "def diagonal(board):\n",
        "  i=0\n",
        "  j=0\n",
        "  if ((board[i][j] == board[i+1][j+1] == board[i+2][j+2] !='0') or (board[i+2][j+2] == board[i+1][j+1] == board[i+2][j] != '0')):\n",
        "    print(board[i][j],'wins')\n",
        "    return 1\n",
        "\n",
        "def game_draw(board):\n",
        "  if (horizontal(board) or vertical(board) or diagonal(board)):\n",
        "    print(\"game draw\")\n",
        "\n",
        "def ip():\n",
        "  a = input(\"row\")\n",
        "  b = input(\"col\")\n",
        "  a = int(a)\n",
        "  b = int(b)\n",
        "  return a,b\n",
        "\n",
        "def check(board,i,j):\n",
        "  if board[i][j]==\"x\" or board[i][j]=='o':\n",
        "    return 1\n",
        "\n",
        "def print_board(board):\n",
        "  for row in board:\n",
        "    print(\" | \".join(str(element) for element in row))\n",
        "\n",
        "def computer_move(board):\n",
        "  a = random.randint(0,2)\n",
        "  b = random.randint(0,2)\n",
        "  if check(board,a,b):\n",
        "    computer_move(board)\n",
        "  else:\n",
        "    board[a][b] = 'o'\n",
        "  return a,b\n",
        "\n",
        "print_board(board)\n",
        "\n",
        "while(1):\n",
        "  a,b = ip()\n",
        "\n",
        "  if(check(board,a,b)):\n",
        "    print(\"Re-enter the input\")\n",
        "    ip()\n",
        "\n",
        "  board[a][b] = 'x'\n",
        "\n",
        "  print_board(board)\n",
        "  print()\n",
        "\n",
        "  a,b = computer_move(board)\n",
        "\n",
        "  print_board(board)\n",
        "\n",
        "  if(horizontal(board) or vertical(board) or diagonal(board)):\n",
        "    # print(\"game over\")\n",
        "    break\n",
        "\n",
        "  if(game_draw(board)):\n",
        "    # print(\"Game draw\")\n",
        "    break"
      ],
      "metadata": {
        "colab": {
          "base_uri": "https://localhost:8080/"
        },
        "id": "QXEiuSwcBMsO",
        "outputId": "7c84fec8-d3ab-43d3-b962-4f56ab313259"
      },
      "execution_count": 9,
      "outputs": [
        {
          "output_type": "stream",
          "name": "stdout",
          "text": [
            "0 | 0 | 0\n",
            "0 | 0 | 0\n",
            "0 | 0 | 0\n",
            "row0\n",
            "col0\n",
            "x | 0 | 0\n",
            "0 | 0 | 0\n",
            "0 | 0 | 0\n",
            "\n",
            "x | o | 0\n",
            "0 | 0 | 0\n",
            "0 | 0 | 0\n",
            "row1\n",
            "col1\n",
            "x | o | 0\n",
            "0 | x | 0\n",
            "0 | 0 | 0\n",
            "\n",
            "x | o | 0\n",
            "0 | x | 0\n",
            "0 | o | 0\n",
            "row2\n",
            "col2\n",
            "x | o | 0\n",
            "0 | x | 0\n",
            "0 | o | x\n",
            "\n",
            "x | o | 0\n",
            "o | x | 0\n",
            "0 | o | x\n",
            "x wins\n"
          ]
        }
      ]
    },
    {
      "cell_type": "code",
      "source": [
        "2"
      ],
      "metadata": {
        "id": "27yaD0vIPkQt"
      },
      "execution_count": null,
      "outputs": []
    }
  ]
}