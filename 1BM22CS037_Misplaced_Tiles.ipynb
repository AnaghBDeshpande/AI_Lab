{
  "nbformat": 4,
  "nbformat_minor": 0,
  "metadata": {
    "colab": {
      "provenance": [],
      "authorship_tag": "ABX9TyNyJ+9dt86k38LRuWJqwgDq",
      "include_colab_link": true
    },
    "kernelspec": {
      "name": "python3",
      "display_name": "Python 3"
    },
    "language_info": {
      "name": "python"
    }
  },
  "cells": [
    {
      "cell_type": "markdown",
      "metadata": {
        "id": "view-in-github",
        "colab_type": "text"
      },
      "source": [
        "<a href=\"https://colab.research.google.com/github/AnaghBDeshpande/AI_Lab/blob/main/1BM22CS037_Misplaced_Tiles.ipynb\" target=\"_parent\"><img src=\"https://colab.research.google.com/assets/colab-badge.svg\" alt=\"Open In Colab\"/></a>"
      ]
    },
    {
      "cell_type": "code",
      "execution_count": 1,
      "metadata": {
        "colab": {
          "base_uri": "https://localhost:8080/"
        },
        "id": "U8yuy5a1aI1Y",
        "outputId": "9f7e4ebf-fe8c-4fa1-f3a1-ebf39c3fe36d"
      },
      "outputs": [
        {
          "output_type": "stream",
          "name": "stdout",
          "text": [
            "Solution Found:\n",
            "[1, 2, 3]\n",
            "[4, 0, 5]\n",
            "[6, 7, 8]\n",
            "\n",
            "[1, 2, 3]\n",
            "[0, 4, 5]\n",
            "[6, 7, 8]\n",
            "\n",
            "[0, 2, 3]\n",
            "[1, 4, 5]\n",
            "[6, 7, 8]\n",
            "\n",
            "[2, 0, 3]\n",
            "[1, 4, 5]\n",
            "[6, 7, 8]\n",
            "\n",
            "[2, 3, 0]\n",
            "[1, 4, 5]\n",
            "[6, 7, 8]\n",
            "\n",
            "[2, 3, 5]\n",
            "[1, 4, 0]\n",
            "[6, 7, 8]\n",
            "\n",
            "[2, 3, 5]\n",
            "[1, 0, 4]\n",
            "[6, 7, 8]\n",
            "\n",
            "[2, 0, 5]\n",
            "[1, 3, 4]\n",
            "[6, 7, 8]\n",
            "\n",
            "[0, 2, 5]\n",
            "[1, 3, 4]\n",
            "[6, 7, 8]\n",
            "\n",
            "[1, 2, 5]\n",
            "[0, 3, 4]\n",
            "[6, 7, 8]\n",
            "\n",
            "[1, 2, 5]\n",
            "[3, 0, 4]\n",
            "[6, 7, 8]\n",
            "\n",
            "[1, 2, 5]\n",
            "[3, 4, 0]\n",
            "[6, 7, 8]\n",
            "\n",
            "[1, 2, 0]\n",
            "[3, 4, 5]\n",
            "[6, 7, 8]\n",
            "\n",
            "[1, 0, 2]\n",
            "[3, 4, 5]\n",
            "[6, 7, 8]\n",
            "\n",
            "[0, 1, 2]\n",
            "[3, 4, 5]\n",
            "[6, 7, 8]\n",
            "\n"
          ]
        },
        {
          "output_type": "execute_result",
          "data": {
            "text/plain": [
              "14"
            ]
          },
          "metadata": {},
          "execution_count": 1
        }
      ],
      "source": [
        "def misplaced_tiles(state, goal):\n",
        "    return sum(1 for i in range(3) for j in range(3) if state[i][j] != goal[i][j] and state[i][j] != 0)\n",
        "\n",
        "def get_neighbors(state):\n",
        "    neighbors = []\n",
        "    blank = [(i, j) for i in range(3) for j in range(3) if state[i][j] == 0][0]\n",
        "    possible_moves = [(-1, 0), (1, 0), (0, -1), (0, 1)]\n",
        "    x, y = blank\n",
        "\n",
        "    for dx, dy in possible_moves:\n",
        "        nx, ny = x + dx, y + dy\n",
        "        if 0 <= nx < 3 and 0 <= ny < 3:\n",
        "            new_state = [row[:] for row in state]\n",
        "            new_state[x][y], new_state[nx][ny] = new_state[nx][ny], new_state[x][y]\n",
        "            neighbors.append(new_state)\n",
        "\n",
        "    return neighbors\n",
        "\n",
        "def print_path(path):\n",
        "    for state in path:\n",
        "        for row in state:\n",
        "            print(row)\n",
        "        print()\n",
        "\n",
        "def astar_misplaced(start, goal):\n",
        "    open_list = [(start, 0, [])]\n",
        "    visited = set()\n",
        "\n",
        "    while open_list:\n",
        "        current, g, path = open_list.pop(0)\n",
        "\n",
        "\n",
        "        path = path + [current]\n",
        "\n",
        "        if current == goal:\n",
        "            print(\"Solution Found:\")\n",
        "            print_path(path)\n",
        "            return g\n",
        "\n",
        "        for neighbor in get_neighbors(current):\n",
        "            neighbor_tuple = tuple(map(tuple, neighbor))\n",
        "            if neighbor_tuple not in visited:\n",
        "                visited.add(neighbor_tuple)\n",
        "                h = misplaced_tiles(neighbor, goal)\n",
        "                open_list.append((neighbor, g + 1, path))\n",
        "\n",
        "        open_list.sort(key=lambda x: x[1] + misplaced_tiles(x[0], goal))\n",
        "    return -1\n",
        "\n",
        "start = [[1, 2, 3], [4, 0, 5], [6, 7, 8]]\n",
        "goal = [[0,1, 2], [3,4, 5], [6,7,8]]\n",
        "astar_misplaced(start, goal)"
      ]
    },
    {
      "cell_type": "code",
      "source": [],
      "metadata": {
        "id": "7KRmgp15acEm"
      },
      "execution_count": 3,
      "outputs": []
    },
    {
      "cell_type": "code",
      "source": [],
      "metadata": {
        "id": "l5vR84ZWahiV"
      },
      "execution_count": null,
      "outputs": []
    }
  ]
}