{
  "nbformat": 4,
  "nbformat_minor": 0,
  "metadata": {
    "colab": {
      "provenance": [],
      "authorship_tag": "ABX9TyOVxDXpoMyEOHGev3lMs8ic",
      "include_colab_link": true
    },
    "kernelspec": {
      "name": "python3",
      "display_name": "Python 3"
    },
    "language_info": {
      "name": "python"
    }
  },
  "cells": [
    {
      "cell_type": "markdown",
      "metadata": {
        "id": "view-in-github",
        "colab_type": "text"
      },
      "source": [
        "<a href=\"https://colab.research.google.com/github/AnaghBDeshpande/AI_Lab/blob/main/1BM22CS037_Hill_Climbing(8%20queens).ipynb\" target=\"_parent\"><img src=\"https://colab.research.google.com/assets/colab-badge.svg\" alt=\"Open In Colab\"/></a>"
      ]
    },
    {
      "cell_type": "code",
      "execution_count": 18,
      "metadata": {
        "colab": {
          "base_uri": "https://localhost:8080/"
        },
        "id": "M40gFoEjYe3u",
        "outputId": "4e31447a-2c70-4058-d49b-d58d3222b840"
      },
      "outputs": [
        {
          "output_type": "stream",
          "name": "stdout",
          "text": [
            "Enter initial state as 8 space-separated integers (0 to 7): 0 5 6 1 2 3 4 7 \n",
            "\n",
            "Iteration 0\n",
            "Current State: [0, 5, 6, 1, 2, 3, 4, 7], Cost: 10\n",
            "Neighbour: [5, 0, 6, 1, 2, 3, 4, 7], Cost: 7\n",
            "Neighbour: [6, 5, 0, 1, 2, 3, 4, 7], Cost: 13\n",
            "Neighbour: [1, 5, 6, 0, 2, 3, 4, 7], Cost: 6\n",
            "Neighbour: [2, 5, 6, 1, 0, 3, 4, 7], Cost: 6\n",
            "Neighbour: [3, 5, 6, 1, 2, 0, 4, 7], Cost: 5\n",
            "Neighbour: [4, 5, 6, 1, 2, 3, 0, 7], Cost: 11\n",
            "Neighbour: [7, 5, 6, 1, 2, 3, 4, 0], Cost: 10\n",
            "Neighbour: [0, 6, 5, 1, 2, 3, 4, 7], Cost: 8\n",
            "Neighbour: [0, 1, 6, 5, 2, 3, 4, 7], Cost: 9\n",
            "Neighbour: [0, 2, 6, 1, 5, 3, 4, 7], Cost: 6\n",
            "Neighbour: [0, 3, 6, 1, 2, 5, 4, 7], Cost: 8\n",
            "Neighbour: [0, 4, 6, 1, 2, 3, 5, 7], Cost: 5\n",
            "Neighbour: [0, 7, 6, 1, 2, 3, 4, 5], Cost: 13\n",
            "Neighbour: [0, 5, 1, 6, 2, 3, 4, 7], Cost: 5\n",
            "Neighbour: [0, 5, 2, 1, 6, 3, 4, 7], Cost: 8\n",
            "Neighbour: [0, 5, 3, 1, 2, 6, 4, 7], Cost: 6\n",
            "Neighbour: [0, 5, 4, 1, 2, 3, 6, 7], Cost: 9\n",
            "Neighbour: [0, 5, 7, 1, 2, 3, 4, 6], Cost: 7\n",
            "Neighbour: [0, 5, 6, 2, 1, 3, 4, 7], Cost: 5\n",
            "Neighbour: [0, 5, 6, 3, 2, 1, 4, 7], Cost: 11\n",
            "Neighbour: [0, 5, 6, 4, 2, 3, 1, 7], Cost: 6\n",
            "Neighbour: [0, 5, 6, 7, 2, 3, 4, 1], Cost: 11\n",
            "Neighbour: [0, 5, 6, 1, 3, 2, 4, 7], Cost: 4\n",
            "Neighbour: [0, 5, 6, 1, 4, 3, 2, 7], Cost: 11\n",
            "Neighbour: [0, 5, 6, 1, 7, 3, 4, 2], Cost: 5\n",
            "Neighbour: [0, 5, 6, 1, 2, 4, 3, 7], Cost: 5\n",
            "Neighbour: [0, 5, 6, 1, 2, 7, 4, 3], Cost: 6\n",
            "Neighbour: [0, 5, 6, 1, 2, 3, 7, 4], Cost: 6\n",
            "\n",
            "Iteration 1\n",
            "Current State: [0, 5, 6, 1, 3, 2, 4, 7], Cost: 4\n",
            "Neighbour: [5, 0, 6, 1, 3, 2, 4, 7], Cost: 3\n",
            "Neighbour: [6, 5, 0, 1, 3, 2, 4, 7], Cost: 5\n",
            "Neighbour: [1, 5, 6, 0, 3, 2, 4, 7], Cost: 3\n",
            "Neighbour: [3, 5, 6, 1, 0, 2, 4, 7], Cost: 3\n",
            "Neighbour: [2, 5, 6, 1, 3, 0, 4, 7], Cost: 2\n",
            "Neighbour: [4, 5, 6, 1, 3, 2, 0, 7], Cost: 6\n",
            "Neighbour: [7, 5, 6, 1, 3, 2, 4, 0], Cost: 8\n",
            "Neighbour: [0, 6, 5, 1, 3, 2, 4, 7], Cost: 8\n",
            "Neighbour: [0, 1, 6, 5, 3, 2, 4, 7], Cost: 5\n",
            "Neighbour: [0, 3, 6, 1, 5, 2, 4, 7], Cost: 3\n",
            "Neighbour: [0, 2, 6, 1, 3, 5, 4, 7], Cost: 5\n",
            "Neighbour: [0, 4, 6, 1, 3, 2, 5, 7], Cost: 3\n",
            "Neighbour: [0, 7, 6, 1, 3, 2, 4, 5], Cost: 5\n",
            "Neighbour: [0, 5, 1, 6, 3, 2, 4, 7], Cost: 3\n",
            "Neighbour: [0, 5, 3, 1, 6, 2, 4, 7], Cost: 3\n",
            "Neighbour: [0, 5, 2, 1, 3, 6, 4, 7], Cost: 5\n",
            "Neighbour: [0, 5, 4, 1, 3, 2, 6, 7], Cost: 5\n",
            "Neighbour: [0, 5, 7, 1, 3, 2, 4, 6], Cost: 3\n",
            "Neighbour: [0, 5, 6, 3, 1, 2, 4, 7], Cost: 6\n",
            "Neighbour: [0, 5, 6, 2, 3, 1, 4, 7], Cost: 4\n",
            "Neighbour: [0, 5, 6, 4, 3, 2, 1, 7], Cost: 8\n",
            "Neighbour: [0, 5, 6, 7, 3, 2, 4, 1], Cost: 6\n",
            "Neighbour: [0, 5, 6, 1, 2, 3, 4, 7], Cost: 10\n",
            "Neighbour: [0, 5, 6, 1, 4, 2, 3, 7], Cost: 6\n",
            "Neighbour: [0, 5, 6, 1, 7, 2, 4, 3], Cost: 3\n",
            "Neighbour: [0, 5, 6, 1, 3, 4, 2, 7], Cost: 4\n",
            "Neighbour: [0, 5, 6, 1, 3, 7, 4, 2], Cost: 2\n",
            "Neighbour: [0, 5, 6, 1, 3, 2, 7, 4], Cost: 3\n",
            "\n",
            "Iteration 2\n",
            "Current State: [2, 5, 6, 1, 3, 0, 4, 7], Cost: 2\n",
            "Neighbour: [5, 2, 6, 1, 3, 0, 4, 7], Cost: 2\n",
            "Neighbour: [6, 5, 2, 1, 3, 0, 4, 7], Cost: 4\n",
            "Neighbour: [1, 5, 6, 2, 3, 0, 4, 7], Cost: 3\n",
            "Neighbour: [3, 5, 6, 1, 2, 0, 4, 7], Cost: 5\n",
            "Neighbour: [0, 5, 6, 1, 3, 2, 4, 7], Cost: 4\n",
            "Neighbour: [4, 5, 6, 1, 3, 0, 2, 7], Cost: 5\n",
            "Neighbour: [7, 5, 6, 1, 3, 0, 4, 2], Cost: 4\n",
            "Neighbour: [2, 6, 5, 1, 3, 0, 4, 7], Cost: 4\n",
            "Neighbour: [2, 1, 6, 5, 3, 0, 4, 7], Cost: 4\n",
            "Neighbour: [2, 3, 6, 1, 5, 0, 4, 7], Cost: 3\n",
            "Neighbour: [2, 0, 6, 1, 3, 5, 4, 7], Cost: 4\n",
            "Neighbour: [2, 4, 6, 1, 3, 0, 5, 7], Cost: 2\n",
            "Neighbour: [2, 7, 6, 1, 3, 0, 4, 5], Cost: 4\n",
            "Neighbour: [2, 5, 1, 6, 3, 0, 4, 7], Cost: 1\n",
            "Neighbour: [2, 5, 3, 1, 6, 0, 4, 7], Cost: 4\n",
            "Neighbour: [2, 5, 0, 1, 3, 6, 4, 7], Cost: 4\n",
            "Neighbour: [2, 5, 4, 1, 3, 0, 6, 7], Cost: 3\n",
            "Neighbour: [2, 5, 7, 1, 3, 0, 4, 6], Cost: 2\n",
            "Neighbour: [2, 5, 6, 3, 1, 0, 4, 7], Cost: 4\n",
            "Neighbour: [2, 5, 6, 0, 3, 1, 4, 7], Cost: 2\n",
            "Neighbour: [2, 5, 6, 4, 3, 0, 1, 7], Cost: 5\n",
            "Neighbour: [2, 5, 6, 7, 3, 0, 4, 1], Cost: 5\n",
            "Neighbour: [2, 5, 6, 1, 0, 3, 4, 7], Cost: 6\n",
            "Neighbour: [2, 5, 6, 1, 4, 0, 3, 7], Cost: 3\n",
            "Neighbour: [2, 5, 6, 1, 7, 0, 4, 3], Cost: 3\n",
            "Neighbour: [2, 5, 6, 1, 3, 4, 0, 7], Cost: 3\n",
            "Neighbour: [2, 5, 6, 1, 3, 7, 4, 0], Cost: 4\n",
            "Neighbour: [2, 5, 6, 1, 3, 0, 7, 4], Cost: 1\n",
            "\n",
            "Iteration 3\n",
            "Current State: [2, 5, 1, 6, 3, 0, 4, 7], Cost: 1\n",
            "Neighbour: [5, 2, 1, 6, 3, 0, 4, 7], Cost: 3\n",
            "Neighbour: [1, 5, 2, 6, 3, 0, 4, 7], Cost: 1\n",
            "Neighbour: [6, 5, 1, 2, 3, 0, 4, 7], Cost: 5\n",
            "Neighbour: [3, 5, 1, 6, 2, 0, 4, 7], Cost: 4\n",
            "Neighbour: [0, 5, 1, 6, 3, 2, 4, 7], Cost: 3\n",
            "Neighbour: [4, 5, 1, 6, 3, 0, 2, 7], Cost: 2\n",
            "Neighbour: [7, 5, 1, 6, 3, 0, 4, 2], Cost: 4\n",
            "Neighbour: [2, 1, 5, 6, 3, 0, 4, 7], Cost: 4\n",
            "Neighbour: [2, 6, 1, 5, 3, 0, 4, 7], Cost: 3\n",
            "Neighbour: [2, 3, 1, 6, 5, 0, 4, 7], Cost: 2\n",
            "Neighbour: [2, 0, 1, 6, 3, 5, 4, 7], Cost: 5\n",
            "Neighbour: [2, 4, 1, 6, 3, 0, 5, 7], Cost: 5\n",
            "Neighbour: [2, 7, 1, 6, 3, 0, 4, 5], Cost: 2\n",
            "Neighbour: [2, 5, 6, 1, 3, 0, 4, 7], Cost: 2\n",
            "Neighbour: [2, 5, 3, 6, 1, 0, 4, 7], Cost: 3\n",
            "Neighbour: [2, 5, 0, 6, 3, 1, 4, 7], Cost: 3\n",
            "Neighbour: [2, 5, 4, 6, 3, 0, 1, 7], Cost: 4\n",
            "Neighbour: [2, 5, 7, 6, 3, 0, 4, 1], Cost: 1\n",
            "Neighbour: [2, 5, 1, 3, 6, 0, 4, 7], Cost: 4\n",
            "Neighbour: [2, 5, 1, 0, 3, 6, 4, 7], Cost: 2\n",
            "Neighbour: [2, 5, 1, 4, 3, 0, 6, 7], Cost: 3\n",
            "Neighbour: [2, 5, 1, 7, 3, 0, 4, 6], Cost: 5\n",
            "Neighbour: [2, 5, 1, 6, 0, 3, 4, 7], Cost: 1\n",
            "Neighbour: [2, 5, 1, 6, 4, 0, 3, 7], Cost: 2\n",
            "Neighbour: [2, 5, 1, 6, 7, 0, 4, 3], Cost: 2\n",
            "Neighbour: [2, 5, 1, 6, 3, 4, 0, 7], Cost: 5\n",
            "Neighbour: [2, 5, 1, 6, 3, 7, 4, 0], Cost: 3\n",
            "Neighbour: [2, 5, 1, 6, 3, 0, 7, 4], Cost: 1\n",
            "\n",
            "Final Results\n",
            "Initial State: [0, 5, 6, 1, 2, 3, 4, 7]\n",
            "Final State (Solution): [2, 5, 1, 6, 3, 0, 4, 7]\n",
            "Final Cost (Attacking Pairs): 1\n",
            "Local optimum reached, but no solution.\n"
          ]
        }
      ],
      "source": [
        "N = 8\n",
        "\n",
        "\n",
        "def calculateCost(state):\n",
        "    attacking_pairs = 0\n",
        "    for i in range(N):\n",
        "        for j in range(i + 1, N):\n",
        "            if state[i] == state[j] or abs(state[i] - state[j]) == abs(i - j):\n",
        "                attacking_pairs += 1\n",
        "    return attacking_pairs\n",
        "\n",
        "\n",
        "def getNeighbours(state):\n",
        "    neighbours = []\n",
        "    for i in range(N):\n",
        "        for j in range(i + 1, N):\n",
        "            new_state = state[:]\n",
        "            new_state[i], new_state[j] = new_state[j], new_state[i]\n",
        "            neighbours.append(new_state)\n",
        "    return neighbours\n",
        "\n",
        "\n",
        "def hillClimbing(initial_state):\n",
        "    current_state = initial_state\n",
        "    current_cost = calculateCost(current_state)\n",
        "\n",
        "    iteration = 0\n",
        "    while True:\n",
        "        print(f\"\\nIteration {iteration}\")\n",
        "        print(f\"Current State: {current_state}, Cost: {current_cost}\")\n",
        "\n",
        "        neighbours = getNeighbours(current_state)\n",
        "        next_state = current_state\n",
        "        next_cost = current_cost\n",
        "\n",
        "\n",
        "        for neighbour in neighbours:\n",
        "            cost = calculateCost(neighbour)\n",
        "            print(f\"Neighbour: {neighbour}, Cost: {cost}\")\n",
        "            if cost < next_cost:\n",
        "                next_state = neighbour\n",
        "                next_cost = cost\n",
        "\n",
        "\n",
        "        if next_cost == current_cost:\n",
        "            break\n",
        "        else:\n",
        "            current_state, current_cost = next_state, next_cost\n",
        "\n",
        "\n",
        "        if current_cost == 0:\n",
        "            break\n",
        "\n",
        "        iteration += 1\n",
        "\n",
        "    return current_state, current_cost\n",
        "\n",
        "\n",
        "initial_state = list(map(int, input(\"Enter initial state as 8 space-separated integers (0 to 7): \").split()))\n",
        "solution_state, solution_cost = hillClimbing(initial_state)\n",
        "\n",
        "\n",
        "print(\"\\nFinal Results\")\n",
        "print(\"Initial State:\", initial_state)\n",
        "print(\"Final State (Solution):\", solution_state)\n",
        "print(\"Final Cost (Attacking Pairs):\", solution_cost)\n",
        "\n",
        "if solution_cost == 0:\n",
        "    print(\"Solution found!\")\n",
        "else:\n",
        "    print(\"Local optimum reached, but no solution.\")"
      ]
    },
    {
      "cell_type": "code",
      "source": [],
      "metadata": {
        "colab": {
          "base_uri": "https://localhost:8080/"
        },
        "id": "4STKaRD5ZT-g",
        "outputId": "80081269-7a46-47cd-8bcc-79e6af35e0b1"
      },
      "execution_count": 6,
      "outputs": [
        {
          "output_type": "stream",
          "name": "stdout",
          "text": [
            "A\n"
          ]
        }
      ]
    },
    {
      "cell_type": "code",
      "source": [],
      "metadata": {
        "colab": {
          "base_uri": "https://localhost:8080/"
        },
        "id": "Z105WzjafZJv",
        "outputId": "de7cdfd4-d044-41ea-b7b5-55a5d60a7a84"
      },
      "execution_count": 16,
      "outputs": [
        {
          "output_type": "stream",
          "name": "stdout",
          "text": [
            "\u0013\n"
          ]
        }
      ]
    },
    {
      "cell_type": "code",
      "source": [],
      "metadata": {
        "id": "Kd2ip-OjgG1_"
      },
      "execution_count": null,
      "outputs": []
    }
  ]
}